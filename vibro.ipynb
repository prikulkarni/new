{
 "cells": [
  {
   "cell_type": "code",
   "execution_count": 4,
   "metadata": {
    "colab": {},
    "colab_type": "code",
    "id": "3NdEjMnsh_9a"
   },
   "outputs": [
    {
     "ename": "ModuleNotFoundError",
     "evalue": "No module named 'ipywidgets'",
     "output_type": "error",
     "traceback": [
      "\u001b[0;31m---------------------------------------------------------------------------\u001b[0m",
      "\u001b[0;31mModuleNotFoundError\u001b[0m                       Traceback (most recent call last)",
      "\u001b[0;32m<ipython-input-4-659c22c0aef4>\u001b[0m in \u001b[0;36m<module>\u001b[0;34m()\u001b[0m\n\u001b[1;32m      5\u001b[0m \"\"\"\n\u001b[1;32m      6\u001b[0m \u001b[0;34m\u001b[0m\u001b[0m\n\u001b[0;32m----> 7\u001b[0;31m \u001b[0;32mfrom\u001b[0m \u001b[0mvibrobase\u001b[0m \u001b[0;32mimport\u001b[0m \u001b[0mdb_ui\u001b[0m\u001b[0;34m\u001b[0m\u001b[0m\n\u001b[0m\u001b[1;32m      8\u001b[0m \u001b[0mdb_ui\u001b[0m\u001b[0;34m.\u001b[0m\u001b[0mshow_menu\u001b[0m\u001b[0;34m(\u001b[0m\u001b[0;34m)\u001b[0m \u001b[0;31m# this e just a very simple beakerx.easyform menu\u001b[0m\u001b[0;34m\u001b[0m\u001b[0m\n",
      "\u001b[0;32m~/new/vibrobase/db_ui.py\u001b[0m in \u001b[0;36m<module>\u001b[0;34m()\u001b[0m\n\u001b[1;32m     13\u001b[0m \u001b[0;31m###\u001b[0m\u001b[0;34m\u001b[0m\u001b[0;34m\u001b[0m\u001b[0m\n\u001b[1;32m     14\u001b[0m \u001b[0;34m\u001b[0m\u001b[0m\n\u001b[0;32m---> 15\u001b[0;31m \u001b[0;32mimport\u001b[0m \u001b[0mipywidgets\u001b[0m \u001b[0;32mas\u001b[0m \u001b[0mwidgets\u001b[0m\u001b[0;34m\u001b[0m\u001b[0m\n\u001b[0m\u001b[1;32m     16\u001b[0m \u001b[0;32mfrom\u001b[0m \u001b[0mIPython\u001b[0m\u001b[0;34m.\u001b[0m\u001b[0mdisplay\u001b[0m \u001b[0;32mimport\u001b[0m \u001b[0mdisplay\u001b[0m\u001b[0;34m\u001b[0m\u001b[0m\n\u001b[1;32m     17\u001b[0m \u001b[0;32mfrom\u001b[0m \u001b[0mIPython\u001b[0m\u001b[0;34m.\u001b[0m\u001b[0mdisplay\u001b[0m \u001b[0;32mimport\u001b[0m \u001b[0mFileLink\u001b[0m\u001b[0;34m\u001b[0m\u001b[0m\n",
      "\u001b[0;31mModuleNotFoundError\u001b[0m: No module named 'ipywidgets'"
     ]
    }
   ],
   "source": [
    "\"\"\"\n",
    "Known Bugs:\n",
    "    - Plots of big datasets in Event Browser crash kernel \n",
    "    \n",
    "\"\"\"\n",
    "\n",
    "from vibrobase import db_ui\n",
    "db_ui.show_menu() # this e just a very simple beakerx.easyform menu"
   ]
  },
  {
   "cell_type": "code",
   "execution_count": null,
   "metadata": {
    "colab": {},
    "colab_type": "code",
    "id": "IIgRKgtdiy-e"
   },
   "outputs": [],
   "source": [
    "event_browser = db_ui.Browse_Sample_Events() # this draws widgets to browse sample events"
   ]
  },
  {
   "cell_type": "code",
   "execution_count": null,
   "metadata": {
    "colab": {},
    "colab_type": "code",
    "id": "cnwwW2bLi3pd"
   },
   "outputs": [],
   "source": [
    "db_entries = db_ui.DB_Entries()"
   ]
  },
  {
   "cell_type": "code",
   "execution_count": null,
   "metadata": {
    "colab": {},
    "colab_type": "code",
    "id": "rF-1In_KkIlN"
   },
   "outputs": [],
   "source": [
    "plot_smu = db_ui.Plot_SMU_Data()"
   ]
  },
  {
   "cell_type": "code",
   "execution_count": null,
   "metadata": {
    "colab": {},
    "colab_type": "code",
    "id": "WUZ6aq14kROt"
   },
   "outputs": [],
   "source": [
    "'''\n",
    "Database can easily be accessed with a few lines of python code.\n",
    "Here is a small example also using pandas.\n",
    "'''\n",
    "import vibrobase as vb # this is all the DB code\n",
    "from vibrobase import db_core as db # this is the core\n",
    "import pandas as pd # \"...high-performance, easy-to-use data structures and data analysis tools for the Python...\"\n",
    "\n",
    "db_com = db.DB_COM(db.DBinfo) # this is the key to the database\n",
    "session = db_com.session() # whenever dealing with the database, you need a session \n",
    "\n",
    "user_list = session.query(db.User).all() # get a list of objects with all users from the database\n",
    "print([user.username for user in user_list])\n",
    "\n",
    "\n",
    "user_object = session.query(db.User).first() # first() returns a single object, not a list\n",
    "\n",
    "# query Sample_Event table\n",
    "# join User table\n",
    "# filter sample events by username \n",
    "# add the user alias to the query\n",
    "# left outer join Attachment table (not every event has an attachment)\n",
    "# add attachment's filename to the query\n",
    "query = session.query(db.Sample_Event)\\\n",
    "            .join(db.Sample_Event.user)\\\n",
    "            .filter_by(username = user_object.username)\\\n",
    "            .add_column(db.User.alias)\\\n",
    "            .outerjoin(db.Attachment)\\\n",
    "            .add_column(db.Attachment.filename)\n",
    "            \n",
    "                \n",
    "dataframe = pd.read_sql(query.statement, query.session.bind) # directly write query into pandas dataframe\n",
    "display(dataframe) # this is IPython.display, how convenient is that!\n",
    "\n",
    "session.close() # please close the session after usage\n"
   ]
  },
  {
   "cell_type": "code",
   "execution_count": null,
   "metadata": {
    "colab": {},
    "colab_type": "code",
    "id": "t5YQccRZkcpV"
   },
   "outputs": [],
   "source": [
    "'''\n",
    "Upload of datasets is also quite simple\n",
    "This is one way how to do it\n",
    "'''\n",
    "import vibrobase as vb # this is all the DB code\n",
    "from vibrobase import db_core as db # this is the core\n",
    "\n",
    "db_com = db.DB_COM(db.DBinfo) # this is the key to the database\n",
    "session = db_com.session() # whenever dealing with the database, you need a session \n",
    "\n",
    "#create database object\n",
    "new_user = vb.db_core.User(username = 'Jesus Christ', alias = 'JChrist', email = 'jesus.christ@heaven.com')\n",
    "\n",
    "#add object to session for commit \n",
    "session.add(new_user)\n",
    "\n",
    "#it is also possible to add a list of objects with session.add_all(list_of_objects)\n",
    "\n",
    "db_com.commit_and_close(session) # this is basically session.commit() -> session.close()"
   ]
  },
  {
   "cell_type": "code",
   "execution_count": 3,
   "metadata": {},
   "outputs": [
    {
     "name": "stdout",
     "output_type": "stream",
     "text": [
      "abc\n"
     ]
    }
   ],
   "source": [
    "print(\"abc\")"
   ]
  },
  {
   "cell_type": "code",
   "execution_count": null,
   "metadata": {},
   "outputs": [],
   "source": []
  }
 ],
 "metadata": {
  "colab": {
   "name": "vibro.ipynb",
   "provenance": [],
   "version": "0.3.2"
  },
  "kernelspec": {
   "display_name": "Python 3",
   "language": "python",
   "name": "python3"
  },
  "language_info": {
   "name": ""
  }
 },
 "nbformat": 4,
 "nbformat_minor": 2
}
