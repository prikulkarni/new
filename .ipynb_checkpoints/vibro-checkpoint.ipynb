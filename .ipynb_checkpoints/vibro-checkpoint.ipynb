{
  "nbformat": 4,
  "nbformat_minor": 0,
  "metadata": {
    "colab": {
      "name": "vibro.ipynb",
      "version": "0.3.2",
      "provenance": []
    },
    "kernelspec": {
      "name": "python3",
      "display_name": "Python 3"
    }
  },
  "cells": [
    {
      "metadata": {
        "id": "3NdEjMnsh_9a",
        "colab_type": "code",
        "colab": {}
      },
      "cell_type": "code",
      "source": [
        "\"\"\"\n",
        "Known Bugs:\n",
        "    - Plots of big datasets in Event Browser crash kernel \n",
        "    \n",
        "\"\"\"\n",
        "\n",
        "from vibrobase import db_ui\n",
        "db_ui.show_menu() # this e just a very simple beakerx.easyform menu"
      ],
      "execution_count": 0,
      "outputs": []
    },
    {
      "metadata": {
        "id": "IIgRKgtdiy-e",
        "colab_type": "code",
        "colab": {}
      },
      "cell_type": "code",
      "source": [
        "event_browser = db_ui.Browse_Sample_Events() # this draws widgets to browse sample events"
      ],
      "execution_count": 0,
      "outputs": []
    },
    {
      "metadata": {
        "id": "cnwwW2bLi3pd",
        "colab_type": "code",
        "colab": {}
      },
      "cell_type": "code",
      "source": [
        "db_entries = db_ui.DB_Entries()"
      ],
      "execution_count": 0,
      "outputs": []
    },
    {
      "metadata": {
        "id": "rF-1In_KkIlN",
        "colab_type": "code",
        "colab": {}
      },
      "cell_type": "code",
      "source": [
        "plot_smu = db_ui.Plot_SMU_Data()"
      ],
      "execution_count": 0,
      "outputs": []
    },
    {
      "metadata": {
        "id": "WUZ6aq14kROt",
        "colab_type": "code",
        "colab": {}
      },
      "cell_type": "code",
      "source": [
        "'''\n",
        "Database can easily be accessed with a few lines of python code.\n",
        "Here is a small example also using pandas.\n",
        "'''\n",
        "import vibrobase as vb # this is all the DB code\n",
        "from vibrobase import db_core as db # this is the core\n",
        "import pandas as pd # \"...high-performance, easy-to-use data structures and data analysis tools for the Python...\"\n",
        "\n",
        "db_com = db.DB_COM(db.DBinfo) # this is the key to the database\n",
        "session = db_com.session() # whenever dealing with the database, you need a session \n",
        "\n",
        "user_list = session.query(db.User).all() # get a list of objects with all users from the database\n",
        "print([user.username for user in user_list])\n",
        "\n",
        "\n",
        "user_object = session.query(db.User).first() # first() returns a single object, not a list\n",
        "\n",
        "# query Sample_Event table\n",
        "# join User table\n",
        "# filter sample events by username \n",
        "# add the user alias to the query\n",
        "# left outer join Attachment table (not every event has an attachment)\n",
        "# add attachment's filename to the query\n",
        "query = session.query(db.Sample_Event)\\\n",
        "            .join(db.Sample_Event.user)\\\n",
        "            .filter_by(username = user_object.username)\\\n",
        "            .add_column(db.User.alias)\\\n",
        "            .outerjoin(db.Attachment)\\\n",
        "            .add_column(db.Attachment.filename)\n",
        "            \n",
        "                \n",
        "dataframe = pd.read_sql(query.statement, query.session.bind) # directly write query into pandas dataframe\n",
        "display(dataframe) # this is IPython.display, how convenient is that!\n",
        "\n",
        "session.close() # please close the session after usage\n"
      ],
      "execution_count": 0,
      "outputs": []
    },
    {
      "metadata": {
        "id": "t5YQccRZkcpV",
        "colab_type": "code",
        "colab": {}
      },
      "cell_type": "code",
      "source": [
        "'''\n",
        "Upload of datasets is also quite simple\n",
        "This is one way how to do it\n",
        "'''\n",
        "import vibrobase as vb # this is all the DB code\n",
        "from vibrobase import db_core as db # this is the core\n",
        "\n",
        "db_com = db.DB_COM(db.DBinfo) # this is the key to the database\n",
        "session = db_com.session() # whenever dealing with the database, you need a session \n",
        "\n",
        "#create database object\n",
        "new_user = vb.db_core.User(username = 'Jesus Christ', alias = 'JChrist', email = 'jesus.christ@heaven.com')\n",
        "\n",
        "#add object to session for commit \n",
        "session.add(new_user)\n",
        "\n",
        "#it is also possible to add a list of objects with session.add_all(list_of_objects)\n",
        "\n",
        "db_com.commit_and_close(session) # this is basically session.commit() -> session.close()"
      ],
      "execution_count": 0,
      "outputs": []
    }
  ]
}